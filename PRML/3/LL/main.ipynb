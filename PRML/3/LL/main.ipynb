{
 "cells": [
  {
   "cell_type": "code",
   "execution_count": 15,
   "metadata": {},
   "outputs": [
    {
     "name": "stdout",
     "output_type": "stream",
     "text": [
      "                            OLS Regression Results                            \n",
      "==============================================================================\n",
      "Dep. Variable:          lung_capacity   R-squared:                       0.235\n",
      "Model:                            OLS   Adj. R-squared:                  0.208\n",
      "Method:                 Least Squares   F-statistic:                     8.620\n",
      "Date:                Wed, 28 Nov 2018   Prob (F-statistic):            0.00658\n",
      "Time:                        12:59:00   Log-Likelihood:                -231.08\n",
      "No. Observations:                  30   AIC:                             466.2\n",
      "Df Residuals:                      28   BIC:                             469.0\n",
      "Df Model:                           1                                         \n",
      "Covariance Type:            nonrobust                                         \n",
      "==================================================================================\n",
      "                     coef    std err          t      P>|t|      [0.025      0.975]\n",
      "----------------------------------------------------------------------------------\n",
      "const           6491.4949   1010.471      6.424      0.000    4421.640    8561.350\n",
      "blood_pressure   -23.6714      8.062     -2.936      0.007     -40.187      -7.156\n",
      "==============================================================================\n",
      "Omnibus:                        2.242   Durbin-Watson:                   2.339\n",
      "Prob(Omnibus):                  0.326   Jarque-Bera (JB):                1.287\n",
      "Skew:                           0.166   Prob(JB):                        0.526\n",
      "Kurtosis:                       2.042   Cond. No.                     1.25e+03\n",
      "==============================================================================\n",
      "\n",
      "Warnings:\n",
      "[1] Standard Errors assume that the covariance matrix of the errors is correctly specified.\n",
      "[2] The condition number is large, 1.25e+03. This might indicate that there are\n",
      "strong multicollinearity or other numerical problems.\n"
     ]
    },
    {
     "data": {
      "image/png": "[encoded data removed]",
      "text/plain": [
       "<Figure size 432x288 with 1 Axes>"
      ]
     },
     "metadata": {
      "needs_background": "light"
     },
     "output_type": "display_data"
    }
   ],
   "source": [
    "import pandas as pd #データフレームを扱う用\n",
    "import statsmodels.api as sm #回帰分析用\n",
    "import matplotlib.pyplot as plt #プロット用\n",
    " \n",
    "# データを読み込む\n",
    "data = pd.read_csv(\"sample.csv\")\n",
    " \n",
    "#回帰分析に使うデータの指定\n",
    "x = data.iloc[:,[2]] #説明変数\n",
    "y = data.iloc[:,3] #目的変数\n",
    "\n",
    "#---------------------------------------------------------\n",
    "#print(data.iloc[:,[2]])タイトルある\n",
    "#print(data.iloc[:,2])タイトルない\n",
    "\n",
    "\n",
    "#-----------------------------\n",
    "#        col_0  col_1  col_2\n",
    "# row_0      1      2      3\n",
    "# row_1     10     20     30\n",
    "# row_2    100    200    300\n",
    "# row_3   1000   2000   3000\n",
    "#-----------------------------\n",
    "# 列ラベルを指定\n",
    "#df.loc[:, ['col_1','col_2']]\n",
    "#---------------------------\n",
    "#        col_1  col_2\n",
    "# row_0      2      3\n",
    "# row_1     20     30\n",
    "# row_2    200    300\n",
    "# row_3   2000   3000\n",
    "#---------------------------\n",
    "#---------------------------------------------------------\n",
    "\n",
    "#全要素が1の列を説明変数の先頭に追加,切片をつけるために必ず必要\n",
    "X = sm.add_constant(x)\n",
    " \n",
    "#モデルの設定\n",
    "model = sm.OLS(y, X)\n",
    " \n",
    "#回帰分析の実行\n",
    "results = model.fit()\n",
    "\n",
    "#結果の詳細を表示\n",
    "print(results.summary())\n",
    " \n",
    "#回帰係数と切片の推定値\n",
    "a = results.params[0]\n",
    "b = results.params[1]\n",
    " \n",
    "#標本値をプロット\n",
    "plt.plot(x, y,\"o\")\n",
    " \n",
    "#回帰直線をプロット\n",
    "plt.plot(x, a+b*x)\n",
    " \n",
    "#プロットの表示\n",
    "plt.show()"
   ]
  },
  {
   "cell_type": "code",
   "execution_count": null,
   "metadata": {},
   "outputs": [],
   "source": []
  }
 ],
 "metadata": {
  "kernelspec": {
   "display_name": "Python 3",
   "language": "python",
   "name": "python3"
  },
  "language_info": {
   "codemirror_mode": {
    "name": "ipython",
    "version": 3
   },
   "file_extension": ".py",
   "mimetype": "text/x-python",
   "name": "python",
   "nbconvert_exporter": "python",
   "pygments_lexer": "ipython3",
   "version": "3.7.0"
  }
 },
 "nbformat": 4,
 "nbformat_minor": 2
}
