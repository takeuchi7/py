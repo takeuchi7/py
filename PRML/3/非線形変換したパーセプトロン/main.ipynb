{
 "cells": [
  {
   "cell_type": "code",
   "execution_count": 12,
   "metadata": {},
   "outputs": [
    {
     "name": "stdout",
     "output_type": "stream",
     "text": [
      "x [[ 0.2  0.9  0.4  0.2 -0.3  0.6 -0.2  1.6  1.9 -0.5]\n",
      " [ 1.2  0.1  0.3  1.7 -1.7 -1.7 -1.9  1.3  1.1  1.5]]\n",
      "t [ 28.2   55.38  82.56 109.74 136.92 164.1  191.28 218.46 245.64 241.64]\n",
      "t [ 1.  1.  1. -1. -1. -1. -1. -1. -1. -1.]\n"
     ]
    },
    {
     "data": {
      "image/png": "[encoded data removed]",
      "text/plain": [
       "<Figure size 432x288 with 1 Axes>"
      ]
     },
     "metadata": {
      "needs_background": "light"
     },
     "output_type": "display_data"
    }
   ],
   "source": [
    "# 入力を非線形変換したパーセプトロン \n",
    "import matplotlib.pyplot as plt\n",
    "import numpy as np\n",
    "from matplotlib import cm\n",
    "\n",
    "\n",
    "# クラス分け\n",
    "def create_data(x0, x1):\n",
    "    if (x0-0.5)**2 + 0.5*x1**2 - 1 > 0:\n",
    "        return -1.0\n",
    "    else:\n",
    "        return 1.0\n",
    "\n",
    "\n",
    "# 識別結果を返す\n",
    "def f(x0, x1):\n",
    "    if np.dot(w.T, phi(x0, x1)) > 0:\n",
    "        return -1.0\n",
    "    else:\n",
    "        return 1.0\n",
    "\n",
    "\n",
    "# 非線形変換\n",
    "def phi(x0, x1):\n",
    "    return np.array([x0**2, x1**2, x0*x1, x0, x1, 1])\n",
    "\n",
    "\n",
    "# 全データ数\n",
    "N = 10\n",
    "\n",
    "# 入力次元数\n",
    "D = 2\n",
    "\n",
    "# クラス数\n",
    "K = 2\n",
    "\n",
    "# 学習率\n",
    "Eta = 0.1\n",
    "\n",
    "# ランダムシードを固定\n",
    "np.random.seed(0)\n",
    "\n",
    "# 2クラス分のデータを作成\n",
    "x = np.random.uniform(-2, 2, [D, N])\n",
    "print('x',np.round(x,1))\n",
    "t = np.empty([N])\n",
    "print('t',t)\n",
    "t = np.vectorize(create_data)(x[0, :], x[1, :])\n",
    "print('t',t)\n",
    "\n",
    "# 重みベクトルwを初期化\n",
    "# Φ(x) = x0^2 + x1^2 + x0x1 + x0 + x0 + 1 とする（求める係数は6個）\n",
    "w = np.random.uniform(-1, 1, 6)\n",
    "\n",
    "# データを非線形変換する\n",
    "phi_x = np.array([phi(x[0, i], x[1, i]) for i in range(N)])\n",
    "\n",
    "# 全データに対して更新処理を行い、誤りがなくなるまで繰り返す\n",
    "while True:\n",
    "    # 更新処理の順をランダムで決める\n",
    "    index = np.random.permutation(np.arange(0, N, 1))\n",
    "\n",
    "    break_flag = True\n",
    "    # 更新処理\n",
    "    for i in range(N):\n",
    "        if t[index[i]] * np.dot(w.T, phi_x[index[i], :]) < 0:\n",
    "            w = w + Eta * t[index[i]] * phi_x[index[i], :]\n",
    "            break_flag = False\n",
    "\n",
    "    if break_flag:\n",
    "        break\n",
    "\n",
    "plt.xlim(-2, 2)\n",
    "plt.ylim(-2, 2)\n",
    "\n",
    "# グラフの色分け\n",
    "a, b = np.meshgrid(np.linspace(-2, 2, 1000), np.linspace(-2, 2, 1000))\n",
    "vec_f = np.vectorize(f)\n",
    "plt.contourf(a, b, vec_f(a, b), alpha=0.2, cmap=cm.coolwarm)\n",
    "\n",
    "plt.scatter(x[:,np.where(t==1)][0], x[:,np.where(t==1)][1], color=\"blue\", alpha=0.5)\n",
    "plt.scatter(x[:,np.where(t==-1)][0], x[:,np.where(t==-1)][1], color=\"red\", alpha=0.5)\n",
    "plt.show()"
   ]
  },
  {
   "cell_type": "code",
   "execution_count": null,
   "metadata": {},
   "outputs": [],
   "source": []
  }
 ],
 "metadata": {
  "kernelspec": {
   "display_name": "Python 3",
   "language": "python",
   "name": "python3"
  },
  "language_info": {
   "codemirror_mode": {
    "name": "ipython",
    "version": 3
   },
   "file_extension": ".py",
   "mimetype": "text/x-python",
   "name": "python",
   "nbconvert_exporter": "python",
   "pygments_lexer": "ipython3",
   "version": "3.7.0"
  }
 },
 "nbformat": 4,
 "nbformat_minor": 2
}
