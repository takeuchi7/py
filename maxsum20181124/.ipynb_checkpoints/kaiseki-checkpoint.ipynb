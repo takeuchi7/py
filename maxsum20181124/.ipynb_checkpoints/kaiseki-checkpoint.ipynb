{
 "cells": [
  {
   "cell_type": "code",
   "execution_count": 14,
   "metadata": {},
   "outputs": [
    {
     "name": "stdout",
     "output_type": "stream",
     "text": [
      "a\n",
      "{'lambda': 3}\n"
     ]
    },
    {
     "ename": "AttributeError",
     "evalue": "'dict' object has no attribute 'read'",
     "output_type": "error",
     "traceback": [
      "\u001b[1;31m---------------------------------------------------------------------------\u001b[0m",
      "\u001b[1;31mAttributeError\u001b[0m                            Traceback (most recent call last)",
      "\u001b[1;32m<ipython-input-14-351329fec6f3>\u001b[0m in \u001b[0;36m<module>\u001b[1;34m()\u001b[0m\n\u001b[0;32m     44\u001b[0m \u001b[1;33m\u001b[0m\u001b[0m\n\u001b[0;32m     45\u001b[0m \u001b[0marg\u001b[0m \u001b[1;33m=\u001b[0m \u001b[0mopt\u001b[0m\u001b[1;33m\u001b[0m\u001b[0m\n\u001b[1;32m---> 46\u001b[1;33m \u001b[0mopt\u001b[0m \u001b[1;33m=\u001b[0m \u001b[0marg\u001b[0m\u001b[1;33m.\u001b[0m\u001b[0mread\u001b[0m\u001b[1;33m(\u001b[0m\u001b[1;33m)\u001b[0m\u001b[1;33m\u001b[0m\u001b[0m\n\u001b[0m",
      "\u001b[1;31mAttributeError\u001b[0m: 'dict' object has no attribute 'read'"
     ]
    }
   ],
   "source": [
    "#coding:utf-8\n",
    "import sys\n",
    "from argparser import ArgParser\n",
    "import json\n",
    "f = open('fg.json', 'r')\n",
    "jsonData = json.load(f)\n",
    "#print(json.dumps(jsonData, sort_keys = True, indent = 4))\n",
    "f.close()\n",
    "\n",
    "opt_pattern = {'-l': {'name': 'lambda', 'type': 'int', 'default': 10}}\n",
    "arg = ArgParser(sys.argv[2:], opt_pattern)\n",
    "\n",
    "B = ['-l',3]\n",
    "\n",
    "args = B#jsonData#sys.argv[2:]\n",
    "pattern = opt_pattern\n",
    "\n",
    "opt = {}\n",
    "for p in pattern:\n",
    "\n",
    "    if p in args:\n",
    "    #リストpatternとリストargsとの共有する要素に着目する\n",
    "        if pattern[p][\"type\"] == \"bool\":\n",
    "            print('a')\n",
    "        #もし共通要素のtypeが\"bool\"であればoptのリストにTrueを代入\n",
    "            opt[pattern[p][\"name\"]] = True\n",
    "        elif pattern[p][\"type\"] == \"int\":\n",
    "            print('a')\n",
    "        #もし共通要素のtypeが\"int\"であればoptのリストに演算を代入\n",
    "            opt[pattern[p][\"name\"]] = int(args[args.index(p) + 1])\n",
    "        elif pattern[p][\"type\"] == \"float\":\n",
    "            print('a')\n",
    "        #もし共通要素のtypeが\"float\"であればoptのリストに演算を代入\n",
    "            opt[pattern[p][\"name\"]] = float(args[args.index(p) + 1])\n",
    "        elif pattern[p][\"type\"] == \"str\":\n",
    "            print('a')\n",
    "        #もし共通要素のtypeが\"str\"であればoptのリストに演算を代入\n",
    "            opt[pattern[p][\"name\"]] = args[args.index(p) + 1]\n",
    "    else:\n",
    "    #もし共有リストがなければデフォルトを代入\n",
    "        opt[pattern[p][\"name\"]] = pattern[p][\"default\"]\n",
    "\n",
    "print(opt)\n",
    "\n",
    "arg = opt\n",
    "opt = arg.read()"
   ]
  },
  {
   "cell_type": "code",
   "execution_count": null,
   "metadata": {},
   "outputs": [],
   "source": []
  }
 ],
 "metadata": {
  "kernelspec": {
   "display_name": "Python 3",
   "language": "python",
   "name": "python3"
  },
  "language_info": {
   "codemirror_mode": {
    "name": "ipython",
    "version": 3
   },
   "file_extension": ".py",
   "mimetype": "text/x-python",
   "name": "python",
   "nbconvert_exporter": "python",
   "pygments_lexer": "ipython3",
   "version": "3.7.0"
  }
 },
 "nbformat": 4,
 "nbformat_minor": 2
}
