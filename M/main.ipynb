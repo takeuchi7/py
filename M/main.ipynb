{
 "cells": [
  {
   "cell_type": "code",
   "execution_count": 1,
   "metadata": {},
   "outputs": [
    {
     "name": "stdout",
     "output_type": "stream",
     "text": [
      "時刻１の潜在変数の状態 [2, 1, 1, 2]\n",
      "状態の最小化結果 ['1.57', '1.43', '1.29', '1.71']\n",
      "状態の離散化 ['2.00', '1.00', '1.00', '2.00']\n",
      "ave 20.0\n"
     ]
    }
   ],
   "source": [
    "# -*- coding: utf-8 -*-\n",
    "#!/usr/bin/env python\n",
    "import sys, json\n",
    "import numpy as np\n",
    "import pandas as pd\n",
    "np.random.seed(21212)\n",
    "import random\n",
    "from scipy.optimize import minimize\n",
    "from minimize_risan import Minimize_risan\n",
    "from syokiti import Syokiti\n",
    "from minimize_renzoku import Minimize_renzoku\n",
    "#x*yのマルコフモデル\n",
    "x = 2\n",
    "y = 2\n",
    "\n",
    "if __name__ == '__main__':\n",
    "    SIN_node = [1,1,1,1]\n",
    "    node = [0,0,0,0]\n",
    "    #ob_variables = [1,1,2,2]\n",
    "    state = [1,2]\n",
    "    ob_variables = random.choices(state,k=4)\n",
    "    print('時刻１の潜在変数の状態',ob_variables)\n",
    "    \n",
    "    #Z_1は１時刻目の潜在変数\n",
    "    senzai_risan_minimize=Minimize_risan(x,y,node,ob_variables,state)\n",
    "    z_1 = senzai_risan_minimize.risan()\n",
    "    \n",
    "    #潜在変数の状態から上層部のマルコフ\n",
    "    z = x*(y-1)+y*(x-1)\n",
    "    low_node=[20,None,None,None]\n",
    "    high_node=[20,None,None,None]\n",
    "    Line = [0]*z\n",
    "    SIN_node = [20,20,20,20]\n",
    "    SENZAI_node = SIN_node + Line\n",
    "    syokiSENZAI_node = SIN_node + Line\n",
    "    \n",
    "    #初期値設定(高精度あり)\n",
    "    syokika = Syokiti(x,y,low_node,high_node,SIN_node,Line)\n",
    "    SENZAI_node = syokika.default()\n",
    "    \n",
    "    #重み（高精度、低精度、隣接）\n",
    "    w0=1\n",
    "    w1=2\n",
    "    w2=0.5\n",
    "    \n",
    "    #ラインププロセスの閾値\n",
    "    c = 800\n",
    "    \n",
    "    #低精度のみの推定と，高精度を含んだ推定  \n",
    "    marcov_lineprocess_minimize=Minimize_renzoku(x,y,SENZAI_node,low_node,high_node,w0,w1,w2,c,Line)\n",
    "    back =marcov_lineprocess_minimize.ENEGY()\n",
    "    #item = back[0]\n",
    "    #None_item=back[1] \n",
    "    \n",
    "    #描画\n",
    "    #MRF_PLOT1.MRF_PLOT(None_item,x,y)\n",
    "    #MRF_PLOT1.MRF_PLOT(item,x,y)\n",
    "    \n",
    "    #opt = {1:{mu:0,siguma:100},2:{mu:0,siguma:100}}\n",
    "    \n",
    "    \n"
   ]
  },
  {
   "cell_type": "code",
   "execution_count": null,
   "metadata": {},
   "outputs": [],
   "source": []
  },
  {
   "cell_type": "code",
   "execution_count": null,
   "metadata": {},
   "outputs": [],
   "source": []
  }
 ],
 "metadata": {
  "kernelspec": {
   "display_name": "Python 3",
   "language": "python",
   "name": "python3"
  },
  "language_info": {
   "codemirror_mode": {
    "name": "ipython",
    "version": 3
   },
   "file_extension": ".py",
   "mimetype": "text/x-python",
   "name": "python",
   "nbconvert_exporter": "python",
   "pygments_lexer": "ipython3",
   "version": "3.7.0"
  }
 },
 "nbformat": 4,
 "nbformat_minor": 2
}
