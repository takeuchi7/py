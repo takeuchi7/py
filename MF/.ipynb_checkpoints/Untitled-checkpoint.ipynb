{
 "cells": [
  {
   "cell_type": "code",
   "execution_count": 15,
   "metadata": {},
   "outputs": [
    {
     "ename": "ImportError",
     "evalue": "cannot import name 'Aa' from 'AAA' (C:\\Users\\okdmlab\\python\\MF\\AAA.py)",
     "output_type": "error",
     "traceback": [
      "\u001b[1;31m---------------------------------------------------------------------------\u001b[0m",
      "\u001b[1;31mImportError\u001b[0m                               Traceback (most recent call last)",
      "\u001b[1;32m<ipython-input-15-b44ac2425a65>\u001b[0m in \u001b[0;36m<module>\u001b[1;34m()\u001b[0m\n\u001b[0;32m     10\u001b[0m \u001b[1;31m#import imp\u001b[0m\u001b[1;33m\u001b[0m\u001b[1;33m\u001b[0m\u001b[0m\n\u001b[0;32m     11\u001b[0m \u001b[1;31m#imp.reload(A)\u001b[0m\u001b[1;33m\u001b[0m\u001b[1;33m\u001b[0m\u001b[0m\n\u001b[1;32m---> 12\u001b[1;33m \u001b[1;32mfrom\u001b[0m \u001b[0mAAA\u001b[0m \u001b[1;32mimport\u001b[0m \u001b[0mAa\u001b[0m\u001b[1;33m\u001b[0m\u001b[0m\n\u001b[0m\u001b[0;32m     13\u001b[0m \u001b[1;33m\u001b[0m\u001b[0m\n\u001b[0;32m     14\u001b[0m \u001b[1;31m#x*yのマルコフモデル\u001b[0m\u001b[1;33m\u001b[0m\u001b[1;33m\u001b[0m\u001b[0m\n",
      "\u001b[1;31mImportError\u001b[0m: cannot import name 'Aa' from 'AAA' (C:\\Users\\okdmlab\\python\\MF\\AAA.py)"
     ]
    }
   ],
   "source": [
    "# -*- coding: utf-8 -*-\n",
    "#!/usr/bin/env python\n",
    "import sys, json\n",
    "import numpy as np\n",
    "import pandas as pd\n",
    "np.random.seed(21212)\n",
    "import random\n",
    "from scipy.optimize import minimize\n",
    "#import A\n",
    "#import imp\n",
    "#imp.reload(A)\n",
    "from AAA import aa\n",
    "\n",
    "#x*yのマルコフモデル\n",
    "x = 2\n",
    "y = 2\n",
    "\n",
    "if __name__ == '__main__':\n",
    "    SIN_node = [1,1,1,1]\n",
    "    node=[0,0,0,0]\n",
    "    ob_varibles= [1,1,2,2]\n",
    "    state=[1,2]\n",
    "    \n",
    "    mini = aa(node,ob_varibles,state)\n",
    "    #print(mini.node)\n",
    "    \n",
    "    A=mini.risan()\n",
    "\n",
    "    print(['{:.2f}'.format(n) for n in A])\n",
    "    for n in range(len(node)):\n",
    "        m=10000\n",
    "        M=0\n",
    "        for i in state:\n",
    "            if((A[n]-i)**2 < m):\n",
    "                m=(A[n]-i)**2\n",
    "                M=i\n",
    "        A[n]=M\n",
    "    print(['{:.2f}'.format(n) for n in A])\n",
    "    \n"
   ]
  },
  {
   "cell_type": "code",
   "execution_count": null,
   "metadata": {},
   "outputs": [],
   "source": []
  }
 ],
 "metadata": {
  "kernelspec": {
   "display_name": "Python 3",
   "language": "python",
   "name": "python3"
  },
  "language_info": {
   "codemirror_mode": {
    "name": "ipython",
    "version": 3
   },
   "file_extension": ".py",
   "mimetype": "text/x-python",
   "name": "python",
   "nbconvert_exporter": "python",
   "pygments_lexer": "ipython3",
   "version": "3.7.0"
  }
 },
 "nbformat": 4,
 "nbformat_minor": 2
}
