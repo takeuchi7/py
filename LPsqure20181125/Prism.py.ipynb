{
 "cells": [
  {
   "cell_type": "code",
   "execution_count": 2,
   "metadata": {
    "collapsed": false,
    "scrolled": true
   },
   "outputs": [
    {
     "name": "stdout",
     "output_type": "stream",
     "text": [
      "ave 37.75\n",
      "[[5.745527216387899, 15.255327799098232, 30.000000011860344, 100.00145428558855, -6.478775145370789, 12.40145282058, 10.240012749630404, 12.826430074455391]]\n",
      "[[5.745527216387899, 15.255327799098232, 30.000000011860344, 100.00145428558855, -100000, 100000, 100000, 100000]]\n",
      "back "
     ]
    },
    {
     "name": "stderr",
     "output_type": "stream",
     "text": [
      "C:\\ProgramData\\Anaconda3\\lib\\site-packages\\ipykernel\\__main__.py:52: RuntimeWarning: overflow encountered in double_scalars\n"
     ]
    },
    {
     "name": "stdout",
     "output_type": "stream",
     "text": [
      "[[[5.750005019812783, 15.250045780403441, 30.00001119704104, 99.99994390161704, -100000.00021977894, 100000.00023622975, 99999.99902064094, 100000.00136922461]]]\n"
     ]
    },
    {
     "data": {
      "image/png": "[encoded data removed]",
      "text/plain": [
       "<matplotlib.figure.Figure at 0x123d0940>"
      ]
     },
     "metadata": {},
     "output_type": "display_data"
    }
   ],
   "source": [
    "# -*- coding: utf-8 -*-\n",
    "#!/usr/bin/env python\n",
    "from __future__ import unicode_literals\n",
    "from collections import defaultdict\n",
    "import numpy as np\n",
    "import pandas as pd\n",
    "#%matplotlib inline\n",
    "import matplotlib.pyplot as plt\n",
    "import matplotlib.mlab as mlab\n",
    "np.random.seed(21212)\n",
    "import networkx as nx\n",
    "import random\n",
    "from scipy import integrate\n",
    "np.set_printoptions(threshold=np.inf)\n",
    "from scipy.optimize import fmin\n",
    "import math\n",
    "from __future__ import absolute_import, division, print_function, unicode_literals\n",
    "import matplotlib.pyplot as plt\n",
    "from matplotlib.patches import Circle, Wedge, Polygon, Ellipse\n",
    "import numpy as np\n",
    "from scipy.optimize import minimize\n",
    "\n",
    "class Prism:\n",
    "    \n",
    "    def __init__(self,SENZAI_node,w,x,y):\n",
    "        self.SENZAI_node=SENZAI_node\n",
    "        self.w=w\n",
    "        seld.x=x\n",
    "        self.y=y\n",
    "\n",
    "    def func(X,x,y,c,w0,w1,w2):\n",
    "        e = math.e\n",
    "\n",
    "        E=0\n",
    "        p=x*y\n",
    "        for i in range(x*y):\n",
    "            if(i%x!=(x-1)):\n",
    "                E+=w2*((X[i]-X[i+1])**2)*(1-(1 / (1 + e**(-X[p]))))+c * (1 / (1 + e**(-X[p])))+(1 / (1 + e**(-X[p])))*(1-(1 / (1 + e**(-X[p]))))\n",
    "                p+=1\n",
    "        for i in range(x):\n",
    "            for j in range(y-1):\n",
    "                E+=w2*((X[i+(j*x)]-X[i+(j*x)+x])**2) * (1-(1 / (1 + e**(-X[p]))))+c * (1 / (1 + e**(-X[p])))+(1 / (1 + e**(-X[p])))*(1-(1 / (1 + e**(-X[p]))))\n",
    "                p+=1\n",
    "        for i in range(x*y):\n",
    "            if(low_node[i]!=None):\n",
    "                E+=w0*(X[i]-low_node[i])**2\n",
    "        for i in range(x*y):\n",
    "            if(high_node[i]!=None):\n",
    "                E+=w1*(X[i]-high_node[i])**2\n",
    "\n",
    "    #   p=x*y\n",
    "    #    for i in range(x-1):\n",
    "    #        for j in range(y-1):\n",
    "    #            E+=(X[i+p+(j*(x-1))]-X[i+p+(j*(x-1))+(x-1)])**2\n",
    "    #    \n",
    "    #    p=x*y+(x-1)*y\n",
    "    #    for i in range(x-1):\n",
    "    #        for j in range(y-1):\n",
    "    #            E+=(X[i+p+(j*(y-1))]-X[i+p+(j*(y-1))+(y-1)])**2\n",
    "\n",
    "        return E\n",
    "\n",
    "    def linear_approximation(self):\n",
    "        c = 100\n",
    "        w0 = self.w[0]\n",
    "        w1 = self.w[1]\n",
    "        w2 = self.w[2]\n",
    "        res1 = minimize(func,[self.SENZAI_node],args=(x,y,c,w0,w1,w2,), method='cobyla')\n",
    "        p=0\n",
    "        res1.x\n",
    "        A=res1.x.tolist()\n",
    "        return A\n"
   ]
  },
  {
   "cell_type": "code",
   "execution_count": null,
   "metadata": {
    "collapsed": true
   },
   "outputs": [],
   "source": []
  }
 ],
 "metadata": {
  "kernelspec": {
   "display_name": "Python 3",
   "language": "python",
   "name": "python3"
  },
  "language_info": {
   "codemirror_mode": {
    "name": "ipython",
    "version": 3
   },
   "file_extension": ".py",
   "mimetype": "text/x-python",
   "name": "python",
   "nbconvert_exporter": "python",
   "pygments_lexer": "ipython3",
   "version": "3.6.0"
  }
 },
 "nbformat": 4,
 "nbformat_minor": 2
}
